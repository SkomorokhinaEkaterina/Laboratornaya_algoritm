{
 "cells": [
  {
   "cell_type": "markdown",
   "metadata": {},
   "source": [
    "# Лабораторная работа №1\n",
    "## Выполнила студентка группы БСТ1903 Скоморохина Е.Р.\n",
    "### Задание №1"
   ]
  },
  {
   "cell_type": "code",
   "execution_count": 1,
   "metadata": {
    "scrolled": true
   },
   "outputs": [
    {
     "name": "stdout",
     "output_type": "stream",
     "text": [
      "Hello, World!\n"
     ]
    }
   ],
   "source": [
    "print (\"Hello, World!\")"
   ]
  },
  {
   "cell_type": "markdown",
   "metadata": {},
   "source": [
    "###Задание №2\n",
    "#Написать генератор случайных матриц(многомерных), который принимает\n",
    "#опциональные параметры m, n, min_limit, max_limit, где m и n указывают размер\n",
    "#матрицы, а min_lim и max_lim - минимальное и максимальное значение для\n",
    "#генерируемого числа . По умолчанию при отсутствии параметров принимать следующие\n",
    "#значения:\n",
    "#m = 50\n",
    "#n = 50\n",
    "#min_limit = -250\n",
    "#max_limit = 1000 + (номер своего варианта)\n"
   ]
  },
  {
   "cell_type": "code",
   "execution_count": 3,
   "metadata": {},
   "outputs": [],
   "source": [
    "def random_matrix(m = 50, n = 50, min_limit = -250, max_limit = 1013):\n",
    "    import random\n",
    "    return [[random.randint(min_limit,max_limit) for _ in range (n)] for _ in range (m)]"
   ]
  },
  {
   "cell_type": "code",
   "execution_count": 4,
   "metadata": {},
   "outputs": [
    {
     "name": "stdout",
     "output_type": "stream",
     "text": [
      "[[44, -2, 64, 69, -8], [85, 16, 96, 63, 16], [42, 12, 20, 71, 59], [73, 94, 87, 21, -8], [57, 69, 21, 74, 83]]\n"
     ]
    }
   ],
   "source": [
    "newMatrix = random_matrix(5,5,-25,101)\n",
    "print (newMatrix)"
   ]
  },
  {
   "cell_type": "markdown",
   "metadata": {},
   "source": [
    "###Задание №3\n",
    "#Реализовать методы сортировки строк числовой матрицы в соответствии с\n",
    "#заданием. Оценить время работы каждого алгоритма сортировки и сравнить его со\n",
    "#временем стандартной функции сортировки. Испытания проводить на сгенерированных\n",
    "#матрицах.\n",
    "#Методы: \n",
    "    #Выбором \n",
    "    #Вставкой \n",
    "    #Обменом \n",
    "    #Шелла \n",
    "    #Турнирная \n",
    "    #Быстрая \n",
    "    #Пирамидальная"
   ]
  },
  {
   "cell_type": "code",
   "execution_count": 5,
   "metadata": {},
   "outputs": [],
   "source": [
    "##Выбором\n",
    "def selection_sort(arr, m):\n",
    "    for g in range (0,m):\n",
    "        for i in range (0, len(arr) - 1):\n",
    "            smallest = arr[g][i]\n",
    "            ind=i\n",
    "            for j in range (i+1, len(arr)):\n",
    "                if arr [g][j]<arr[g][ind]:\n",
    "                    smallest=arr[g][j]\n",
    "                    arr[g][j]=arr[g][ind]\n",
    "                    arr[g][ind]=smallest\n",
    "    return (arr)"
   ]
  },
  {
   "cell_type": "code",
   "execution_count": 6,
   "metadata": {},
   "outputs": [
    {
     "name": "stdout",
     "output_type": "stream",
     "text": [
      "[[100, 31, 33, 51, 46], [3, 11, 21, 32, 73], [93, 21, 90, 29, 78], [42, 26, 82, 15, 49], [82, 23, 33, 99, -5]]\n",
      "[[31, 33, 46, 51, 100], [3, 11, 21, 32, 73], [21, 29, 78, 90, 93], [15, 26, 42, 49, 82], [-5, 23, 33, 82, 99]]\n"
     ]
    }
   ],
   "source": [
    "newMatrix=random_matrix(5,5,-5,101)\n",
    "print (newMatrix)\n",
    "newArr=selection_sort(newMatrix, 5)\n",
    "print (newArr)"
   ]
  },
  {
   "cell_type": "code",
   "execution_count": 7,
   "metadata": {},
   "outputs": [],
   "source": [
    "##Вставкой\n",
    "def insertion_sort(arr, m):\n",
    "    for g in range (0,m):\n",
    "        for i in range (1, len(arr)):\n",
    "            key=arr[g][i]\n",
    "            j=i-1\n",
    "            while (j>=0 and key<arr[g][j]):\n",
    "                arr[g][j+1]=arr[g][j]\n",
    "                j=j-1\n",
    "            arr[g][j+1]=key\n",
    "    return (arr)"
   ]
  },
  {
   "cell_type": "code",
   "execution_count": 8,
   "metadata": {},
   "outputs": [
    {
     "name": "stdout",
     "output_type": "stream",
     "text": [
      "[[8, 50, 51, 6, 39], [31, 58, 31, 36, 100], [15, 91, 26, 48, 97], [89, 48, 4, 73, 74], [99, 51, 49, 60, 53]]\n",
      "[[6, 8, 39, 50, 51], [31, 31, 36, 58, 100], [15, 26, 48, 91, 97], [4, 48, 73, 74, 89], [49, 51, 53, 60, 99]]\n"
     ]
    }
   ],
   "source": [
    "newMatrix=random_matrix(5,5,-5,101)\n",
    "print (newMatrix)\n",
    "newArr=insertion_sort(newMatrix, 5)\n",
    "print (newArr)"
   ]
  },
  {
   "cell_type": "code",
   "execution_count": 9,
   "metadata": {},
   "outputs": [],
   "source": [
    "##Обменом\n",
    "def bubble_sort (arr, m):\n",
    "    for g in range (0,m):\n",
    "        j=len(arr)-1\n",
    "        while (j>=1):\n",
    "            for i in range (0,j):\n",
    "                if arr[g][i]>arr[g][i+1]:\n",
    "                    arr[g][i], arr[g][i+1]=arr[g][i+1], arr[g][i]\n",
    "            j=j-1\n",
    "    return (arr)"
   ]
  },
  {
   "cell_type": "code",
   "execution_count": 10,
   "metadata": {},
   "outputs": [
    {
     "name": "stdout",
     "output_type": "stream",
     "text": [
      "[[40, 9, 49, 91, 39], [21, 75, -2, 85, 70], [46, 4, 3, 6, 42], [59, 6, 16, 51, 41], [67, 33, 75, 0, 54]]\n",
      "[[9, 39, 40, 49, 91], [-2, 21, 70, 75, 85], [3, 4, 6, 42, 46], [6, 16, 41, 51, 59], [0, 33, 54, 67, 75]]\n"
     ]
    }
   ],
   "source": [
    "newMatrix=random_matrix(5,5,-5,101)\n",
    "print (newMatrix)\n",
    "newArr=bubble_sort(newMatrix, 5)\n",
    "print (newArr)"
   ]
  },
  {
   "cell_type": "code",
   "execution_count": 11,
   "metadata": {},
   "outputs": [],
   "source": [
    "##Шелла\n",
    "def shell_sort(arr,m):\n",
    "    for g in range (0,m):\n",
    "        step=len(arr) // 2\n",
    "        while step>0:\n",
    "            for i in range (step, len(arr)):\n",
    "                j=i\n",
    "                delta = j-step\n",
    "                while delta >= 0 and arr[g][delta]>arr[g][j]:\n",
    "                    arr[g][delta], arr[g][j] = arr[g][j], arr[g][delta]\n",
    "                    j=delta\n",
    "                    delta=j-step\n",
    "            step //=2\n",
    "    return (arr)"
   ]
  },
  {
   "cell_type": "code",
   "execution_count": 12,
   "metadata": {},
   "outputs": [
    {
     "name": "stdout",
     "output_type": "stream",
     "text": [
      "[[84, 99, 40, 94, 74], [9, 63, 89, 20, 101], [14, 34, 20, 62, 75], [73, 58, 37, 22, 69], [16, 81, 58, 48, 60]]\n",
      "[[40, 74, 84, 94, 99], [9, 20, 63, 89, 101], [14, 20, 34, 62, 75], [22, 37, 58, 69, 73], [16, 48, 58, 60, 81]]\n"
     ]
    }
   ],
   "source": [
    "newMatrix=random_matrix(5,5,-5,101)\n",
    "print (newMatrix)\n",
    "newArr=shell_sort(newMatrix, 5)\n",
    "print (newArr)"
   ]
  },
  {
   "cell_type": "code",
   "execution_count": 13,
   "metadata": {},
   "outputs": [],
   "source": [
    "#Пирамидальная\n",
    "#Процедура для преобразования в двоичную кучу поддерева с корневым узлом i, что является индексом в arr[]. n - размер кучи\n",
    "def heapify(arr,n,i,g):\n",
    "    largest = i # Initialize largest as root\n",
    "    l = 2 * i + 1   # left = 2*i + 1\n",
    "    r = 2 * i + 2   # right = 2*i + 2\n",
    "    \n",
    "    # Проверяем существует ли левый дочерний элемент больший, чем корень\n",
    "\n",
    "    if l < n and arr[g][i] < arr[g][l]:\n",
    "        largest = l\n",
    "        \n",
    "    # Проверяем существует ли правый дочерний элемент больший, чем корень\n",
    "\n",
    "    if r < n and arr[g][largest] < arr[g][r]:\n",
    "        largest = r\n",
    "        \n",
    "    # Заменяем корень, если нужно\n",
    "    if largest != i:\n",
    "        arr[g][i], arr[g][largest] = arr[g][largest], arr[g][i] # свап\n",
    "\n",
    "        # Применяем heapify к корню.\n",
    "        heapify(arr, n, largest, g)\n",
    "        \n",
    "# Основная функция для сортировки массива заданного размера\n",
    "def heap_sort(arr, m):\n",
    "    n = len(arr)\n",
    "    g=m-1\n",
    "    while g>=0:\n",
    "            # Построение max-heap.\n",
    "        for i in range(n, -1, -1):\n",
    "            heapify(arr, n, i, g)\n",
    "            \n",
    "             # Один за другим извлекаем элементы\n",
    "        for i in range(n-1, 0, -1):\n",
    "            arr[g][i], arr[g][0] = arr[g][0], arr[g][i] # свап \n",
    "            heapify(arr, i, 0, g)\n",
    "        g=g-1\n",
    "    return (arr)\n"
   ]
  },
  {
   "cell_type": "code",
   "execution_count": 14,
   "metadata": {},
   "outputs": [
    {
     "name": "stdout",
     "output_type": "stream",
     "text": [
      "[[84, 85, 12, 1, 91], [81, 66, 42, 65, 81], [76, 100, 89, 97, 69], [41, 44, 4, 27, 46], [101, 95, 82, 93, 58]]\n",
      "[[1, 12, 84, 85, 91], [42, 65, 66, 81, 81], [69, 76, 89, 97, 100], [4, 27, 41, 44, 46], [58, 82, 93, 95, 101]]\n"
     ]
    }
   ],
   "source": [
    "newMatrix=random_matrix(5,5,-5,101)\n",
    "print (newMatrix)\n",
    "newArr=heap_sort(newMatrix, 5)\n",
    "print (newArr)"
   ]
  },
  {
   "cell_type": "code",
   "execution_count": 48,
   "metadata": {},
   "outputs": [],
   "source": [
    "#Быстрая\n",
    "def quick_sort_mass(arr,m):\n",
    "    for g in range (0,m):\n",
    "        quick_sort(arr[g])\n",
    "    return (arr)\n",
    "def quick_sort(arr, fst=0, lst=None):\n",
    "    if lst == None:\n",
    "        lst = len(arr) - 1\n",
    "        \n",
    "    if fst >= lst:\n",
    "        return\n",
    " \n",
    "    i, j = fst, lst\n",
    "    pivot = arr[(lst + fst) // 2]\n",
    " \n",
    "    while i <= j:\n",
    "        while arr[i] < pivot: i += 1\n",
    "        while arr[j] > pivot: j -= 1\n",
    "        if i <= j:\n",
    "            arr[i], arr[j] = arr[j], arr[i]\n",
    "            i, j = i + 1, j - 1\n",
    "            \n",
    "    quick_sort(arr, fst, j)\n",
    "    quick_sort(arr, i, lst)\n",
    "    return (arr)"
   ]
  },
  {
   "cell_type": "code",
   "execution_count": 49,
   "metadata": {},
   "outputs": [
    {
     "name": "stdout",
     "output_type": "stream",
     "text": [
      "[[37, 73, 70, 63, 97], [30, 87, 57, 18, 22], [83, 17, 77, 89, 85], [100, 24, -1, 8, 56], [92, 70, 14, 25, -2]]\n",
      "[[37, 63, 70, 73, 97], [18, 22, 30, 57, 87], [17, 77, 83, 85, 89], [-1, 8, 24, 56, 100], [-2, 14, 25, 70, 92]]\n"
     ]
    }
   ],
   "source": [
    "newMatrix=random_matrix(5,5,-5,101)\n",
    "print (newMatrix)\n",
    "newArr=quick_sort_mass(newMatrix, 5)\n",
    "print (newArr)"
   ]
  },
  {
   "cell_type": "code",
   "execution_count": 50,
   "metadata": {},
   "outputs": [],
   "source": [
    "#Турнирная\n",
    "def tournament_sort_mass(arr,m):\n",
    "    for g in range (0,m):\n",
    "        tournament_sort(arr[g])\n",
    "    return (arr)\n",
    "def tournament_sort(arr):\n",
    "    tree = [None] * 2 * (len(arr) + len(arr) % 2)\n",
    "    index = len(tree) - len(arr) - len(arr) % 2\n",
    "    \n",
    "    for i, v in enumerate(arr):\n",
    "        tree[index + i] = (i, v)\n",
    "    \n",
    "    for j in range(len(arr)):\n",
    "        n = len(arr)\n",
    "        index = len(tree) - len(arr) - len(arr) % 2\n",
    "        while index > -1:\n",
    "            n = (n + 1) // 2\n",
    "            for i in range(n):\n",
    "                i = max(index + i * 2, 1) # на последней итерация index + i * 2 = 0\n",
    "                if tree[i] != None and tree[i + 1] != None:\n",
    "                    if tree[i][1] < tree[i + 1][1]:\n",
    "                        tree[i // 2] = tree[i]\n",
    "                    else:\n",
    "                        tree[i // 2] = tree[i + 1]\n",
    "                else:\n",
    "                    tree[i // 2] = tree[i] if tree[i] != None else tree[i + 1]\n",
    "            index -= n\n",
    "\n",
    "        index, x = tree[0]\n",
    "        arr[j] = x\n",
    "        tree[len(tree) - len(arr) - len(arr) % 2 + index] = None\n",
    "    return (arr)"
   ]
  },
  {
   "cell_type": "code",
   "execution_count": 52,
   "metadata": {},
   "outputs": [
    {
     "name": "stdout",
     "output_type": "stream",
     "text": [
      "[[94, 74, 93, 60, 64], [57, 28, 15, 6, 6], [37, 6, 69, 52, 15], [16, 85, 75, 3, 12], [32, 85, 43, 43, 21]]\n",
      "[[60, 64, 74, 93, 94], [6, 6, 15, 28, 57], [6, 15, 37, 52, 69], [3, 12, 16, 75, 85], [21, 32, 43, 43, 85]]\n"
     ]
    }
   ],
   "source": [
    "newMatrix=random_matrix(5,5,-5,101)\n",
    "print (newMatrix)\n",
    "newArr=tournament_sort_mass(newMatrix, 5)\n",
    "print (newArr)"
   ]
  },
  {
   "cell_type": "code",
   "execution_count": null,
   "metadata": {},
   "outputs": [],
   "source": []
  }
 ],
 "metadata": {
  "kernelspec": {
   "display_name": "Python 3",
   "language": "python",
   "name": "python3"
  },
  "language_info": {
   "codemirror_mode": {
    "name": "ipython",
    "version": 3
   },
   "file_extension": ".py",
   "mimetype": "text/x-python",
   "name": "python",
   "nbconvert_exporter": "python",
   "pygments_lexer": "ipython3",
   "version": "3.8.5"
  }
 },
 "nbformat": 4,
 "nbformat_minor": 4
}
